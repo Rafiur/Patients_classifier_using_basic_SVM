{
  "nbformat": 4,
  "nbformat_minor": 0,
  "metadata": {
    "kernelspec": {
      "display_name": "Python 3",
      "language": "python",
      "name": "python3"
    },
    "language_info": {
      "codemirror_mode": {
        "name": "ipython",
        "version": 3
      },
      "file_extension": ".py",
      "mimetype": "text/x-python",
      "name": "python",
      "nbconvert_exporter": "python",
      "pygments_lexer": "ipython3",
      "version": "3.6.8"
    },
    "colab": {
      "name": "Simple SVM clasifier.ipynb",
      "provenance": [],
      "include_colab_link": true
    }
  },
  "cells": [
    {
      "cell_type": "markdown",
      "metadata": {
        "id": "view-in-github",
        "colab_type": "text"
      },
      "source": [
        "<a href=\"https://colab.research.google.com/github/Rafiur/Patients_classifier_using_basic_SVM/blob/main/Simple_SVM_clasifier.ipynb\" target=\"_parent\"><img src=\"https://colab.research.google.com/assets/colab-badge.svg\" alt=\"Open In Colab\"/></a>"
      ]
    },
    {
      "cell_type": "code",
      "metadata": {
        "id": "GPEa6LobW_J3"
      },
      "source": [
        "import numpy as np\n",
        "from numpy import array\n",
        "import pandas as pd\n",
        "import os\n",
        "import matplotlib.pyplot as plt\n",
        "import pickle #for saving and loading the model\n",
        "from sklearn.model_selection import train_test_split\n",
        "#from sklearn.preprocessing import OneHotEncoder\n",
        "from sklearn import svm\n",
        "from sklearn.metrics import classification_report"
      ],
      "execution_count": null,
      "outputs": []
    },
    {
      "cell_type": "code",
      "metadata": {
        "id": "_0ds4LLWW_J6",
        "outputId": "abda4381-469b-4d1a-f4a7-b7b79822b6e3"
      },
      "source": [
        "df = pd.read_excel(\"Dataset Final(1).xlsx\", sheet_name='All together ') # can also index sheet by name or fetch all sheets\n",
        "df.head()"
      ],
      "execution_count": null,
      "outputs": [
        {
          "data": {
            "text/html": [
              "<div>\n",
              "<style scoped>\n",
              "    .dataframe tbody tr th:only-of-type {\n",
              "        vertical-align: middle;\n",
              "    }\n",
              "\n",
              "    .dataframe tbody tr th {\n",
              "        vertical-align: top;\n",
              "    }\n",
              "\n",
              "    .dataframe thead th {\n",
              "        text-align: right;\n",
              "    }\n",
              "</style>\n",
              "<table border=\"1\" class=\"dataframe\">\n",
              "  <thead>\n",
              "    <tr style=\"text-align: right;\">\n",
              "      <th></th>\n",
              "      <th>Patient's Number</th>\n",
              "      <th>Gender</th>\n",
              "      <th>Age</th>\n",
              "      <th>Left sided paralysis</th>\n",
              "      <th>Right sided paralysis</th>\n",
              "      <th>Unable to speak</th>\n",
              "      <th>Unconsciousness</th>\n",
              "      <th>Deviation of Mouth</th>\n",
              "      <th>Slurring of Speech</th>\n",
              "      <th>Increased Number of Urination</th>\n",
              "      <th>...</th>\n",
              "      <th>Generalized Weakness</th>\n",
              "      <th>Severe Hedache</th>\n",
              "      <th>Swelling Over Multiple Body Parts</th>\n",
              "      <th>Vertigo</th>\n",
              "      <th>Fever</th>\n",
              "      <th>Cough</th>\n",
              "      <th>Gum Bleeding</th>\n",
              "      <th>Abdominal Pain</th>\n",
              "      <th>Output</th>\n",
              "      <th>Suggested Doctor</th>\n",
              "    </tr>\n",
              "  </thead>\n",
              "  <tbody>\n",
              "    <tr>\n",
              "      <th>0</th>\n",
              "      <td>19</td>\n",
              "      <td>1</td>\n",
              "      <td>53</td>\n",
              "      <td>0</td>\n",
              "      <td>1</td>\n",
              "      <td>0</td>\n",
              "      <td>1</td>\n",
              "      <td>1</td>\n",
              "      <td>0</td>\n",
              "      <td>0</td>\n",
              "      <td>...</td>\n",
              "      <td>0</td>\n",
              "      <td>0</td>\n",
              "      <td>0</td>\n",
              "      <td>0</td>\n",
              "      <td>0</td>\n",
              "      <td>0</td>\n",
              "      <td>0</td>\n",
              "      <td>0</td>\n",
              "      <td>Stroke</td>\n",
              "      <td>Neurologist</td>\n",
              "    </tr>\n",
              "    <tr>\n",
              "      <th>1</th>\n",
              "      <td>20</td>\n",
              "      <td>2</td>\n",
              "      <td>57</td>\n",
              "      <td>1</td>\n",
              "      <td>0</td>\n",
              "      <td>1</td>\n",
              "      <td>0</td>\n",
              "      <td>0</td>\n",
              "      <td>0</td>\n",
              "      <td>0</td>\n",
              "      <td>...</td>\n",
              "      <td>0</td>\n",
              "      <td>0</td>\n",
              "      <td>0</td>\n",
              "      <td>0</td>\n",
              "      <td>0</td>\n",
              "      <td>0</td>\n",
              "      <td>0</td>\n",
              "      <td>0</td>\n",
              "      <td>Stroke</td>\n",
              "      <td>Neurologist</td>\n",
              "    </tr>\n",
              "    <tr>\n",
              "      <th>2</th>\n",
              "      <td>21</td>\n",
              "      <td>2</td>\n",
              "      <td>78</td>\n",
              "      <td>1</td>\n",
              "      <td>0</td>\n",
              "      <td>1</td>\n",
              "      <td>0</td>\n",
              "      <td>1</td>\n",
              "      <td>0</td>\n",
              "      <td>0</td>\n",
              "      <td>...</td>\n",
              "      <td>0</td>\n",
              "      <td>0</td>\n",
              "      <td>0</td>\n",
              "      <td>0</td>\n",
              "      <td>0</td>\n",
              "      <td>0</td>\n",
              "      <td>0</td>\n",
              "      <td>0</td>\n",
              "      <td>Stroke</td>\n",
              "      <td>Neurologist</td>\n",
              "    </tr>\n",
              "    <tr>\n",
              "      <th>3</th>\n",
              "      <td>22</td>\n",
              "      <td>2</td>\n",
              "      <td>63</td>\n",
              "      <td>0</td>\n",
              "      <td>1</td>\n",
              "      <td>0</td>\n",
              "      <td>0</td>\n",
              "      <td>0</td>\n",
              "      <td>0</td>\n",
              "      <td>0</td>\n",
              "      <td>...</td>\n",
              "      <td>0</td>\n",
              "      <td>0</td>\n",
              "      <td>0</td>\n",
              "      <td>0</td>\n",
              "      <td>0</td>\n",
              "      <td>0</td>\n",
              "      <td>0</td>\n",
              "      <td>0</td>\n",
              "      <td>Stroke</td>\n",
              "      <td>Neurologist</td>\n",
              "    </tr>\n",
              "    <tr>\n",
              "      <th>4</th>\n",
              "      <td>23</td>\n",
              "      <td>2</td>\n",
              "      <td>49</td>\n",
              "      <td>0</td>\n",
              "      <td>1</td>\n",
              "      <td>1</td>\n",
              "      <td>0</td>\n",
              "      <td>0</td>\n",
              "      <td>0</td>\n",
              "      <td>0</td>\n",
              "      <td>...</td>\n",
              "      <td>0</td>\n",
              "      <td>0</td>\n",
              "      <td>0</td>\n",
              "      <td>0</td>\n",
              "      <td>0</td>\n",
              "      <td>0</td>\n",
              "      <td>0</td>\n",
              "      <td>0</td>\n",
              "      <td>Stroke</td>\n",
              "      <td>Neurologist</td>\n",
              "    </tr>\n",
              "  </tbody>\n",
              "</table>\n",
              "<p>5 rows × 43 columns</p>\n",
              "</div>"
            ],
            "text/plain": [
              "   Patient's Number  Gender  Age  Left sided paralysis   \\\n",
              "0                19       1   53                      0   \n",
              "1                20       2   57                      1   \n",
              "2                21       2   78                      1   \n",
              "3                22       2   63                      0   \n",
              "4                23       2   49                      0   \n",
              "\n",
              "   Right sided paralysis  Unable to speak   Unconsciousness   \\\n",
              "0                      1                 0                 1   \n",
              "1                      0                 1                 0   \n",
              "2                      0                 1                 0   \n",
              "3                      1                 0                 0   \n",
              "4                      1                 1                 0   \n",
              "\n",
              "   Deviation of Mouth  Slurring of Speech  Increased Number of Urination  ...  \\\n",
              "0                   1                   0                              0  ...   \n",
              "1                   0                   0                              0  ...   \n",
              "2                   1                   0                              0  ...   \n",
              "3                   0                   0                              0  ...   \n",
              "4                   0                   0                              0  ...   \n",
              "\n",
              "   Generalized Weakness  Severe Hedache  Swelling Over Multiple Body Parts  \\\n",
              "0                     0               0                                  0   \n",
              "1                     0               0                                  0   \n",
              "2                     0               0                                  0   \n",
              "3                     0               0                                  0   \n",
              "4                     0               0                                  0   \n",
              "\n",
              "   Vertigo  Fever  Cough  Gum Bleeding  Abdominal Pain  Output   \\\n",
              "0        0      0      0             0               0   Stroke   \n",
              "1        0      0      0             0               0   Stroke   \n",
              "2        0      0      0             0               0   Stroke   \n",
              "3        0      0      0             0               0   Stroke   \n",
              "4        0      0      0             0               0   Stroke   \n",
              "\n",
              "   Suggested Doctor  \n",
              "0       Neurologist  \n",
              "1       Neurologist  \n",
              "2       Neurologist  \n",
              "3       Neurologist  \n",
              "4       Neurologist  \n",
              "\n",
              "[5 rows x 43 columns]"
            ]
          },
          "execution_count": 3,
          "metadata": {},
          "output_type": "execute_result"
        }
      ]
    },
    {
      "cell_type": "code",
      "metadata": {
        "id": "gcPreMXfW_J7",
        "outputId": "3397bab1-bd44-4586-b237-c214b56b1e6c"
      },
      "source": [
        "df['Output '].value_counts()"
      ],
      "execution_count": null,
      "outputs": [
        {
          "data": {
            "text/plain": [
              "Stroke          1002\n",
              "Hypertension    1002\n",
              "Diabetes        1002\n",
              "Name: Output , dtype: int64"
            ]
          },
          "execution_count": 4,
          "metadata": {},
          "output_type": "execute_result"
        }
      ]
    },
    {
      "cell_type": "code",
      "metadata": {
        "scrolled": true,
        "id": "aUsVGnkPW_J8",
        "outputId": "aab12fb7-85f8-40b4-dace-74ced3419df8"
      },
      "source": [
        "df.dtypes"
      ],
      "execution_count": null,
      "outputs": [
        {
          "data": {
            "text/plain": [
              "Patient's Number                                 int64\n",
              "Gender                                           int64\n",
              "Age                                              int64\n",
              "Left sided paralysis                             int64\n",
              "Right sided paralysis                            int64\n",
              "Unable to speak                                  int64\n",
              "Unconsciousness                                  int64\n",
              "Deviation of Mouth                               int64\n",
              "Slurring of Speech                               int64\n",
              "Increased Number of Urination                    int64\n",
              "Increased Thirst and Dry Mouth                   int64\n",
              "Increased Hunger                                 int64\n",
              "Weight Loss                                      int64\n",
              "Mood Change                                      int64\n",
              " Apathy                                          int64\n",
              "Irritability                                     int64\n",
              "Lethargy                                         int64\n",
              " Fatigue                                         int64\n",
              "Weakness                                         int64\n",
              "Blurring of Vision                               int64\n",
              "Delay in Wound Healing                           int64\n",
              "Nausea                                           int64\n",
              "Predilection to sweet food                       int64\n",
              "Blood Sugar Level                              float64\n",
              "Asymptomatic/  Diagnosed on Routine Checkup      int64\n",
              "Headache                                         int64\n",
              "Nosebleed                                        int64\n",
              "Pounding in Neck/ Chest                          int64\n",
              "Difficulty in Breathing                          int64\n",
              "Palpitation/ Fatigue                             int64\n",
              "Family History of HTN                            int64\n",
              "BMI                                            float64\n",
              "Generalized Body Ache                            int64\n",
              "Generalized Weakness                             int64\n",
              "Severe Hedache                                   int64\n",
              "Swelling Over Multiple Body Parts                int64\n",
              "Vertigo                                          int64\n",
              "Fever                                            int64\n",
              "Cough                                            int64\n",
              "Gum Bleeding                                     int64\n",
              "Abdominal Pain                                   int64\n",
              "Output                                          object\n",
              "Suggested Doctor                                object\n",
              "dtype: object"
            ]
          },
          "execution_count": 5,
          "metadata": {},
          "output_type": "execute_result"
        }
      ]
    },
    {
      "cell_type": "code",
      "metadata": {
        "id": "ULjAatWnW_J9"
      },
      "source": [
        "df['Blood Sugar Level'] = df['Blood Sugar Level'].astype(int)\n",
        "df['BMI'] = df['BMI'].astype(int)"
      ],
      "execution_count": null,
      "outputs": []
    },
    {
      "cell_type": "code",
      "metadata": {
        "id": "l_SbfeZoW_J9",
        "outputId": "cc565540-63ef-4f2a-c50f-ae540bb5ad13"
      },
      "source": [
        "df.dtypes"
      ],
      "execution_count": null,
      "outputs": [
        {
          "data": {
            "text/plain": [
              "Patient's Number                                int64\n",
              "Gender                                          int64\n",
              "Age                                             int64\n",
              "Left sided paralysis                            int64\n",
              "Right sided paralysis                           int64\n",
              "Unable to speak                                 int64\n",
              "Unconsciousness                                 int64\n",
              "Deviation of Mouth                              int64\n",
              "Slurring of Speech                              int64\n",
              "Increased Number of Urination                   int64\n",
              "Increased Thirst and Dry Mouth                  int64\n",
              "Increased Hunger                                int64\n",
              "Weight Loss                                     int64\n",
              "Mood Change                                     int64\n",
              " Apathy                                         int64\n",
              "Irritability                                    int64\n",
              "Lethargy                                        int64\n",
              " Fatigue                                        int64\n",
              "Weakness                                        int64\n",
              "Blurring of Vision                              int64\n",
              "Delay in Wound Healing                          int64\n",
              "Nausea                                          int64\n",
              "Predilection to sweet food                      int64\n",
              "Blood Sugar Level                               int32\n",
              "Asymptomatic/  Diagnosed on Routine Checkup     int64\n",
              "Headache                                        int64\n",
              "Nosebleed                                       int64\n",
              "Pounding in Neck/ Chest                         int64\n",
              "Difficulty in Breathing                         int64\n",
              "Palpitation/ Fatigue                            int64\n",
              "Family History of HTN                           int64\n",
              "BMI                                             int32\n",
              "Generalized Body Ache                           int64\n",
              "Generalized Weakness                            int64\n",
              "Severe Hedache                                  int64\n",
              "Swelling Over Multiple Body Parts               int64\n",
              "Vertigo                                         int64\n",
              "Fever                                           int64\n",
              "Cough                                           int64\n",
              "Gum Bleeding                                    int64\n",
              "Abdominal Pain                                  int64\n",
              "Output                                         object\n",
              "Suggested Doctor                               object\n",
              "dtype: object"
            ]
          },
          "execution_count": 7,
          "metadata": {},
          "output_type": "execute_result"
        }
      ]
    },
    {
      "cell_type": "code",
      "metadata": {
        "id": "w32EF5HgW_J-"
      },
      "source": [
        "features_df = df[['Age', 'Left sided paralysis ','Right sided paralysis', 'Unable to speak ', 'Unconsciousness ','Deviation of Mouth', 'Slurring of Speech','Increased Number of Urination', 'Increased Thirst and Dry Mouth','Increased Hunger', 'Weight Loss', 'Mood Change', ' Apathy','Irritability', 'Lethargy', ' Fatigue ', 'Weakness','Blurring of Vision', 'Delay in Wound Healing', 'Nausea','Predilection to sweet food', 'Blood Sugar Level','Asymptomatic/  Diagnosed on Routine Checkup', 'Headache', 'Nosebleed','Pounding in Neck/ Chest', 'Difficulty in Breathing ','Palpitation/ Fatigue', 'Family History of HTN', 'BMI','Generalized Body Ache', 'Generalized Weakness', 'Severe Hedache','Swelling Over Multiple Body Parts', 'Vertigo', 'Fever', 'Cough','Gum Bleeding', 'Abdominal Pain']]\n",
        "labels_df = df[['Output ']]\n",
        "#print(labels_df)"
      ],
      "execution_count": null,
      "outputs": []
    },
    {
      "cell_type": "code",
      "metadata": {
        "id": "ZQwbNdp1W_J_",
        "outputId": "63f28a01-8145-43f7-dc92-d69401429813"
      },
      "source": [
        "X = np.asarray(features_df)\n",
        "print(X.shape)\n",
        "Y = np.asarray(labels_df)\n",
        "print(Y.shape)"
      ],
      "execution_count": null,
      "outputs": [
        {
          "name": "stdout",
          "output_type": "stream",
          "text": [
            "(3006, 39)\n",
            "(3006, 1)\n"
          ]
        }
      ]
    },
    {
      "cell_type": "code",
      "metadata": {
        "id": "YXDAd-P7W_KA",
        "outputId": "4ebe2968-c8bb-4fd4-cef0-ce6d96d837ac"
      },
      "source": [
        "#train_test_split with a seed value 4\n",
        "X_train, X_test, y_train, y_test = train_test_split(X, Y, test_size = 0.1, random_state = 4)\n",
        "print(X_train.shape)\n",
        "print(y_train.shape)"
      ],
      "execution_count": null,
      "outputs": [
        {
          "name": "stdout",
          "output_type": "stream",
          "text": [
            "(2705, 39)\n",
            "(2705, 1)\n"
          ]
        }
      ]
    },
    {
      "cell_type": "code",
      "metadata": {
        "id": "R9-CaItmW_KB"
      },
      "source": [
        "#using sigmoid kernel and gamma calculation automatically\n",
        "model = svm.SVC(kernel = 'sigmoid', gamma = 'scale', C = 2.0)"
      ],
      "execution_count": null,
      "outputs": []
    },
    {
      "cell_type": "code",
      "metadata": {
        "scrolled": true,
        "id": "FCMXtImsW_KB",
        "outputId": "7cf8a794-c93a-4321-c806-cefc00996340"
      },
      "source": [
        "model.fit(X_train, np.ravel(y_train,order='C'))#using ravel to convert to 1d array"
      ],
      "execution_count": null,
      "outputs": [
        {
          "data": {
            "text/plain": [
              "SVC(C=2.0, cache_size=200, class_weight=None, coef0=0.0,\n",
              "    decision_function_shape='ovr', degree=3, gamma='scale', kernel='sigmoid',\n",
              "    max_iter=-1, probability=False, random_state=None, shrinking=True,\n",
              "    tol=0.001, verbose=False)"
            ]
          },
          "execution_count": 12,
          "metadata": {},
          "output_type": "execute_result"
        }
      ]
    },
    {
      "cell_type": "code",
      "metadata": {
        "id": "BcWig-KmW_KC",
        "outputId": "30f6f360-50a4-4aab-cbd2-eb38fe458389"
      },
      "source": [
        "y_predict = model.predict(X_test)\n",
        "print(y_predict)"
      ],
      "execution_count": null,
      "outputs": [
        {
          "name": "stdout",
          "output_type": "stream",
          "text": [
            "['Stroke' 'Diabetes' 'Hypertension' 'Diabetes' 'Stroke' 'Hypertension'\n",
            " 'Stroke' 'Stroke' 'Diabetes' 'Hypertension' 'Hypertension' 'Diabetes'\n",
            " 'Stroke' 'Hypertension' 'Diabetes' 'Diabetes' 'Stroke' 'Hypertension'\n",
            " 'Diabetes' 'Diabetes' 'Stroke' 'Stroke' 'Hypertension' 'Hypertension'\n",
            " 'Hypertension' 'Hypertension' 'Stroke' 'Hypertension' 'Hypertension'\n",
            " 'Diabetes' 'Stroke' 'Hypertension' 'Hypertension' 'Diabetes' 'Diabetes'\n",
            " 'Stroke' 'Diabetes' 'Hypertension' 'Stroke' 'Diabetes' 'Stroke'\n",
            " 'Diabetes' 'Hypertension' 'Hypertension' 'Stroke' 'Diabetes'\n",
            " 'Hypertension' 'Hypertension' 'Stroke' 'Hypertension' 'Diabetes'\n",
            " 'Diabetes' 'Diabetes' 'Diabetes' 'Stroke' 'Diabetes' 'Diabetes'\n",
            " 'Diabetes' 'Diabetes' 'Diabetes' 'Diabetes' 'Hypertension' 'Stroke'\n",
            " 'Stroke' 'Hypertension' 'Diabetes' 'Hypertension' 'Diabetes' 'Stroke'\n",
            " 'Diabetes' 'Stroke' 'Hypertension' 'Stroke' 'Stroke' 'Hypertension'\n",
            " 'Stroke' 'Stroke' 'Diabetes' 'Hypertension' 'Stroke' 'Stroke' 'Diabetes'\n",
            " 'Stroke' 'Hypertension' 'Stroke' 'Diabetes' 'Stroke' 'Stroke' 'Stroke'\n",
            " 'Hypertension' 'Diabetes' 'Hypertension' 'Stroke' 'Diabetes' 'Diabetes'\n",
            " 'Diabetes' 'Diabetes' 'Hypertension' 'Diabetes' 'Hypertension' 'Diabetes'\n",
            " 'Diabetes' 'Diabetes' 'Diabetes' 'Diabetes' 'Diabetes' 'Stroke'\n",
            " 'Diabetes' 'Hypertension' 'Hypertension' 'Stroke' 'Diabetes' 'Diabetes'\n",
            " 'Diabetes' 'Hypertension' 'Diabetes' 'Stroke' 'Stroke' 'Diabetes'\n",
            " 'Diabetes' 'Hypertension' 'Hypertension' 'Stroke' 'Stroke' 'Hypertension'\n",
            " 'Stroke' 'Diabetes' 'Stroke' 'Hypertension' 'Diabetes' 'Stroke'\n",
            " 'Hypertension' 'Hypertension' 'Hypertension' 'Diabetes' 'Diabetes'\n",
            " 'Hypertension' 'Diabetes' 'Stroke' 'Stroke' 'Stroke' 'Diabetes'\n",
            " 'Diabetes' 'Diabetes' 'Diabetes' 'Hypertension' 'Stroke' 'Stroke'\n",
            " 'Diabetes' 'Diabetes' 'Hypertension' 'Diabetes' 'Diabetes' 'Stroke'\n",
            " 'Diabetes' 'Stroke' 'Stroke' 'Diabetes' 'Diabetes' 'Hypertension'\n",
            " 'Stroke' 'Stroke' 'Stroke' 'Hypertension' 'Diabetes' 'Hypertension'\n",
            " 'Hypertension' 'Stroke' 'Diabetes' 'Hypertension' 'Diabetes' 'Stroke'\n",
            " 'Diabetes' 'Diabetes' 'Stroke' 'Diabetes' 'Diabetes' 'Hypertension'\n",
            " 'Diabetes' 'Diabetes' 'Diabetes' 'Stroke' 'Stroke' 'Stroke' 'Stroke'\n",
            " 'Diabetes' 'Stroke' 'Stroke' 'Diabetes' 'Stroke' 'Hypertension'\n",
            " 'Diabetes' 'Stroke' 'Hypertension' 'Stroke' 'Diabetes' 'Stroke'\n",
            " 'Diabetes' 'Stroke' 'Hypertension' 'Hypertension' 'Hypertension'\n",
            " 'Diabetes' 'Diabetes' 'Stroke' 'Hypertension' 'Stroke' 'Stroke' 'Stroke'\n",
            " 'Diabetes' 'Hypertension' 'Stroke' 'Hypertension' 'Hypertension' 'Stroke'\n",
            " 'Stroke' 'Stroke' 'Diabetes' 'Stroke' 'Stroke' 'Diabetes' 'Diabetes'\n",
            " 'Stroke' 'Diabetes' 'Diabetes' 'Hypertension' 'Stroke' 'Hypertension'\n",
            " 'Stroke' 'Stroke' 'Stroke' 'Diabetes' 'Diabetes' 'Hypertension'\n",
            " 'Diabetes' 'Diabetes' 'Hypertension' 'Hypertension' 'Stroke' 'Stroke'\n",
            " 'Diabetes' 'Diabetes' 'Hypertension' 'Hypertension' 'Diabetes' 'Stroke'\n",
            " 'Diabetes' 'Diabetes' 'Hypertension' 'Stroke' 'Stroke' 'Diabetes'\n",
            " 'Hypertension' 'Hypertension' 'Stroke' 'Hypertension' 'Diabetes'\n",
            " 'Diabetes' 'Hypertension' 'Stroke' 'Hypertension' 'Hypertension'\n",
            " 'Hypertension' 'Stroke' 'Diabetes' 'Hypertension' 'Hypertension' 'Stroke'\n",
            " 'Stroke' 'Diabetes' 'Stroke' 'Diabetes' 'Hypertension' 'Diabetes'\n",
            " 'Diabetes' 'Stroke' 'Diabetes' 'Stroke' 'Hypertension' 'Diabetes'\n",
            " 'Hypertension' 'Hypertension' 'Hypertension' 'Stroke' 'Hypertension'\n",
            " 'Diabetes' 'Diabetes' 'Hypertension' 'Diabetes' 'Stroke' 'Diabetes'\n",
            " 'Hypertension' 'Stroke' 'Hypertension' 'Diabetes' 'Diabetes' 'Stroke'\n",
            " 'Stroke' 'Diabetes' 'Stroke' 'Diabetes']\n"
          ]
        }
      ]
    },
    {
      "cell_type": "code",
      "metadata": {
        "id": "VLMBXoPXW_KC",
        "outputId": "1c789731-b3cd-41f1-f0d7-b8825356973c"
      },
      "source": [
        "model_score = model.score(X_test, y_test)\n",
        "model_score"
      ],
      "execution_count": null,
      "outputs": [
        {
          "data": {
            "text/plain": [
              "0.8205980066445183"
            ]
          },
          "execution_count": 14,
          "metadata": {},
          "output_type": "execute_result"
        }
      ]
    },
    {
      "cell_type": "code",
      "metadata": {
        "id": "6WJ_vSHcW_KD"
      },
      "source": [
        "save_model = 'SVM_classifier.sav'\n",
        "pickle.dump(model, open(save_model, 'wb'))"
      ],
      "execution_count": null,
      "outputs": []
    },
    {
      "cell_type": "code",
      "metadata": {
        "id": "jhFM3llbW_KD",
        "outputId": "df0e3d47-fb85-4782-ab9a-2975d6b16958"
      },
      "source": [
        "model_report = classification_report(y_test, y_predict)\n",
        "print(model_report)"
      ],
      "execution_count": null,
      "outputs": [
        {
          "name": "stdout",
          "output_type": "stream",
          "text": [
            "              precision    recall  f1-score   support\n",
            "\n",
            "    Diabetes       0.72      0.80      0.75       104\n",
            "Hypertension       1.00      0.89      0.94        96\n",
            "      Stroke       0.79      0.78      0.79       101\n",
            "\n",
            "    accuracy                           0.82       301\n",
            "   macro avg       0.84      0.82      0.83       301\n",
            "weighted avg       0.83      0.82      0.82       301\n",
            "\n"
          ]
        }
      ]
    },
    {
      "cell_type": "code",
      "metadata": {
        "id": "fgMdYjJgW_KD",
        "outputId": "fa0f0196-d57e-4efd-d766-a4034d2f506e"
      },
      "source": [
        "loaded_model = pickle.load(open(save_model, 'rb'))\n",
        "result = loaded_model.score(X_test, y_test)\n",
        "print(result)"
      ],
      "execution_count": null,
      "outputs": [
        {
          "name": "stdout",
          "output_type": "stream",
          "text": [
            "0.8205980066445183\n"
          ]
        }
      ]
    },
    {
      "cell_type": "code",
      "metadata": {
        "id": "qd5uTC40W_KE"
      },
      "source": [
        ""
      ],
      "execution_count": null,
      "outputs": []
    }
  ]
}